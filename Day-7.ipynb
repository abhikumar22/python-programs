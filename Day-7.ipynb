{
 "cells": [
  {
   "cell_type": "code",
   "execution_count": 1,
   "metadata": {},
   "outputs": [],
   "source": [
    "# A python program to find all permutaions of a given string\n",
    "# Input :- abc\n",
    "# Output :- ['abc', 'acb', 'bac', 'bca', 'cab', 'cba']   - list of generated strings"
   ]
  },
  {
   "cell_type": "code",
   "execution_count": 4,
   "metadata": {},
   "outputs": [
    {
     "name": "stdout",
     "output_type": "stream",
     "text": [
      "\n",
      "abc\n"
     ]
    },
    {
     "data": {
      "text/plain": [
       "['abc', 'acb', 'bac', 'bca', 'cab', 'cba']"
      ]
     },
     "execution_count": 4,
     "metadata": {},
     "output_type": "execute_result"
    }
   ],
   "source": [
    "# 1st using predefined function\n",
    "\n",
    "from itertools import permutations\n",
    "\n",
    "st = input(\"\\n\")\n",
    "\n",
    "str = [''.join(p) for p in permutations(st)]\n",
    "str # it is the sorted version i.e the set of string generated is preinted in sorted order (alphabetically)."
   ]
  },
  {
   "cell_type": "code",
   "execution_count": 20,
   "metadata": {},
   "outputs": [
    {
     "name": "stdout",
     "output_type": "stream",
     "text": [
      "\n",
      "abc\n",
      "\n",
      "\n"
     ]
    },
    {
     "data": {
      "text/plain": [
       "['abc', 'acb', 'bac', 'bca', 'cab', 'cba']"
      ]
     },
     "execution_count": 20,
     "metadata": {},
     "output_type": "execute_result"
    }
   ],
   "source": [
    "# without using any predefined function\n",
    "\n",
    "def st(lst):\n",
    "    return ''.join(lst)\n",
    " \n",
    "def per(a, l, r, f):\n",
    "    if l==r:\n",
    "        f.append(st(a));\n",
    "    else:\n",
    "        for i in range(l, r+1):\n",
    "            a[l], a[i] = a[i], a[l]\n",
    "            per(a, l+1, r, f)\n",
    "            a[l], a[i] = a[i], a[l]\n",
    " \n",
    "# Driver code\n",
    "f = [];\n",
    "str = input(\"\\n\")\n",
    "print(\"\\n\")\n",
    "n = len(str)\n",
    "a = list(str)\n",
    "per(a, 0, n-1, f)\n",
    "f.sort();\n",
    "f\n",
    " "
   ]
  }
 ],
 "metadata": {
  "kernelspec": {
   "display_name": "Python 3",
   "language": "python",
   "name": "python3"
  },
  "language_info": {
   "codemirror_mode": {
    "name": "ipython",
    "version": 3
   },
   "file_extension": ".py",
   "mimetype": "text/x-python",
   "name": "python",
   "nbconvert_exporter": "python",
   "pygments_lexer": "ipython3",
   "version": "3.6.4"
  }
 },
 "nbformat": 4,
 "nbformat_minor": 2
}

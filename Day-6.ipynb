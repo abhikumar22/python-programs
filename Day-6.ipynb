{
 "cells": [
  {
   "cell_type": "code",
   "execution_count": 15,
   "metadata": {},
   "outputs": [
    {
     "name": "stdout",
     "output_type": "stream",
     "text": [
      "\n",
      "abhishek\n"
     ]
    },
    {
     "data": {
      "text/plain": [
       "'a b e h h i k s'"
      ]
     },
     "execution_count": 15,
     "metadata": {},
     "output_type": "execute_result"
    }
   ],
   "source": [
    "# A python program to sort set of characters alphabetically\n",
    "# Input :- 'abhishek'\n",
    "# Output :- 'a b e h h i k s'\n",
    "\n",
    "\n",
    "def partition(arr, low, high):\n",
    "    i = low-1    \n",
    "    pivot = arr[high]   \n",
    " \n",
    "    for j in range(low , high):\n",
    "        if arr[j] <= pivot:\n",
    "            i = i+1\n",
    "            arr[i],arr[j] = arr[j],arr[i]\n",
    "    arr[i+1],arr[high] = arr[high],arr[i+1]\n",
    "    return ( i+1 )\n",
    " \n",
    "\n",
    "def quickSort(arr,low,high):\n",
    "    if low < high:\n",
    "        pi = partition(arr,low,high)\n",
    "        quickSort(arr, low, pi-1)\n",
    "        quickSort(arr, pi+1, high)\n",
    "            \n",
    "# Driver function code            \n",
    "st = input(\"\\n\")\n",
    "n = len(st)\n",
    "lst = [i for i in st]\n",
    "arr = [ord(i) for i in lst]\n",
    "\n",
    "quickSort(arr,0,n-1)\n",
    "lst = [chr(i) for i in arr]\n",
    "st = ' '.join(lst)\n",
    "st\n"
   ]
  }
 ],
 "metadata": {
  "kernelspec": {
   "display_name": "Python 3",
   "language": "python",
   "name": "python3"
  },
  "language_info": {
   "codemirror_mode": {
    "name": "ipython",
    "version": 3
   },
   "file_extension": ".py",
   "mimetype": "text/x-python",
   "name": "python",
   "nbconvert_exporter": "python",
   "pygments_lexer": "ipython3",
   "version": "3.6.4"
  }
 },
 "nbformat": 4,
 "nbformat_minor": 2
}

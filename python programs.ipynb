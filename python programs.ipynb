{
 "cells": [
  {
   "cell_type": "code",
   "execution_count": 4,
   "metadata": {},
   "outputs": [
    {
     "name": "stdout",
     "output_type": "stream",
     "text": [
      "enter the string\n",
      "hello world i am abhishek kumar abhishek kumar hello\n",
      "Frequency of each word :-\n",
      "hello = 2\n",
      "\n",
      "abhishek = 2\n",
      "\n",
      "world = 1\n",
      "\n",
      "kumar = 2\n",
      "\n",
      "i = 1\n",
      "\n",
      "am = 1\n",
      "\n"
     ]
    }
   ],
   "source": [
    "# A python program to print occurence of each word in a string\n",
    "# Example :- \n",
    "#  Input - \"hello world i am abhishek kumar abhishek kumar hello\"\n",
    "#  Output -  hello-2 \n",
    "#            world-1 \n",
    "#            i-1 \n",
    "#            am-1 \n",
    "#            abhishek-2 \n",
    "#            kumar-2\n",
    "\n",
    "name = input(\"enter the string\\n\");\n",
    "lst = []\n",
    "lst = name.split();\n",
    "c=set();\n",
    "\n",
    "for i in lst:\n",
    "    c.add(i)\n",
    "\n",
    "l = len(c)\n",
    "lst1 = []\n",
    "\n",
    "for i in range(l):\n",
    "    lst1.append(c.pop())\n",
    "    \n",
    "lst1\n",
    "\n",
    "print(\"Frequency of each word :-\")\n",
    "\n",
    "for i in lst1:\n",
    "    #print(\"=\")\n",
    "    k=0;\n",
    "    for j in lst:\n",
    "        if i==j:\n",
    "            k+=1;\n",
    "    print(\"{0} = {1}\\n\".format(i,k))"
   ]
  },
  {
   "cell_type": "code",
   "execution_count": null,
   "metadata": {},
   "outputs": [],
   "source": [
    "# A python program to print occurence of each number in a given list of numbers\n",
    "# Example :- \n",
    "#  Input - \"hello world i am abhishek kumar abhishek kumar hello\"\n",
    "#  Output -  hello-2 \n",
    "#            world-1 \n",
    "#            i-1 \n",
    "#            am-1 \n",
    "#            abhishek-2 \n",
    "#            kumar-2\n",
    "\n",
    "\n",
    "a=[1,1,3,7,2,9,99,45,3,45]\n",
    "s=set()\n",
    "b = []\n",
    "for i in a:\n",
    "    s.add(i)\n",
    "\n",
    "for i in range(len(s)):\n",
    "    b.append(s.pop())\n",
    "print(\"frequencey\\n\")   \n",
    "for j in b:\n",
    "    print(j)\n",
    "    print(\"=\")\n",
    "    c=0;\n",
    "    for i in range(len(a)):\n",
    "        if a[i]==j:\n",
    "            c+=1;\n",
    "    print(c)\n",
    "    print(\"\\n\");"
   ]
  }
 ],
 "metadata": {
  "kernelspec": {
   "display_name": "Python 3",
   "language": "python",
   "name": "python3"
  },
  "language_info": {
   "codemirror_mode": {
    "name": "ipython",
    "version": 3
   },
   "file_extension": ".py",
   "mimetype": "text/x-python",
   "name": "python",
   "nbconvert_exporter": "python",
   "pygments_lexer": "ipython3",
   "version": "3.6.4"
  }
 },
 "nbformat": 4,
 "nbformat_minor": 2
}

{
 "cells": [
  {
   "cell_type": "code",
   "execution_count": 14,
   "metadata": {},
   "outputs": [
    {
     "name": "stdout",
     "output_type": "stream",
     "text": [
      "\n",
      "hello world i am abhishek kumar abhishek kumar hello\n",
      "hello = 2\n",
      "\n",
      "abhishek = 2\n",
      "\n",
      "world = 1\n",
      "\n",
      "kumar = 2\n",
      "\n",
      "i = 1\n",
      "\n",
      "am = 1\n",
      "\n"
     ]
    }
   ],
   "source": [
    "# A python program to print occurence of each word in a string\n",
    "# Example :- \n",
    "#  Input - \"hello world i am abhishek kumar abhishek kumar hello\"\n",
    "#  Output -  hello-2 \n",
    "#            world-1 \n",
    "#            i-1 \n",
    "#            am-1 \n",
    "#            abhishek-2 \n",
    "#            kumar-2\n",
    "\n",
    "name = input(\"\\n\");\n",
    "lst = []\n",
    "lst = name.split();\n",
    "c=set();\n",
    "\n",
    "for i in lst:\n",
    "    c.add(i)\n",
    "\n",
    "l = len(c)\n",
    "lst1 = []\n",
    "\n",
    "for i in range(l):\n",
    "    lst1.append(c.pop())\n",
    "    \n",
    "for i in lst1:\n",
    "    k=0;\n",
    "    for j in lst:\n",
    "        if i==j:\n",
    "            k+=1;\n",
    "    print(\"{0} = {1}\\n\".format(i,k))"
   ]
  },
  {
   "cell_type": "code",
   "execution_count": 19,
   "metadata": {},
   "outputs": [
    {
     "name": "stdout",
     "output_type": "stream",
     "text": [
      "\n",
      "1\n",
      "\n",
      "1\n",
      "\n",
      "3\n",
      "\n",
      "7\n",
      "\n",
      "2\n",
      "\n",
      "9\n",
      "\n",
      "99\n",
      "\n",
      "45\n",
      "\n",
      "3\n",
      "\n",
      "45\n",
      "1 = 2\n",
      "\n",
      "7 = 1\n",
      "\n",
      "2 = 1\n",
      "\n",
      "45 = 2\n",
      "\n",
      "3 = 2\n",
      "\n",
      "99 = 1\n",
      "\n",
      "9 = 1\n",
      "\n"
     ]
    }
   ],
   "source": [
    "#### A python program to print occurence of each number in a given list of numbers\n",
    "# Example :- \n",
    "#  Input - [1,1,3,7,2,9,99,45,3,45]\n",
    "#  Output -  1 = 2\n",
    "#            7 = 1\n",
    "#            2 = 1\n",
    "#            45 = 2\n",
    "#            3 = 2\n",
    "#            99 = 1\n",
    "#            9 = 1\n",
    "\n",
    "a = []\n",
    "a=[input(\"\\n\") for i in range(10)]\n",
    "s=set()\n",
    "b = []\n",
    "\n",
    "for i in a:\n",
    "    s.add(i)\n",
    "\n",
    "for i in range(len(s)):\n",
    "    b.append(s.pop())\n",
    "  \n",
    "for j in b:\n",
    "    c=0;\n",
    "    for i in range(len(a)):\n",
    "        if a[i]==j:\n",
    "            c+=1;\n",
    "    print(\"{0} = {1}\\n\".format(j,c))"
   ]
  },
  {
   "cell_type": "code",
   "execution_count": 44,
   "metadata": {},
   "outputs": [
    {
     "name": "stdout",
     "output_type": "stream",
     "text": [
      "\n",
      "python program to sort words in alphabetical order of a string\n"
     ]
    },
    {
     "data": {
      "text/plain": [
       "'a alphabetical in of order program python sort string to words'"
      ]
     },
     "execution_count": 44,
     "metadata": {},
     "output_type": "execute_result"
    }
   ],
   "source": [
    "# python program to sort words in alphabetical order of a string\n",
    "# input = 'python program to sort words in alphabetical order of a string'\n",
    "# OU\n",
    "\n",
    "myStr = input(\"\\n\")\n",
    "\n",
    "#breakingdown the string into list of words\n",
    "words = myStr.split()   #words is list\n",
    "\n",
    "#sort the list\n",
    "words.sort()\n",
    "\n",
    "# converting list to a string\n",
    "str = ' '.join(words) #providing space for maintaining space between words in the sentence\n",
    "str\n"
   ]
  },
  {
   "cell_type": "code",
   "execution_count": null,
   "metadata": {},
   "outputs": [],
   "source": []
  }
 ],
 "metadata": {
  "kernelspec": {
   "display_name": "Python 3",
   "language": "python",
   "name": "python3"
  },
  "language_info": {
   "codemirror_mode": {
    "name": "ipython",
    "version": 3
   },
   "file_extension": ".py",
   "mimetype": "text/x-python",
   "name": "python",
   "nbconvert_exporter": "python",
   "pygments_lexer": "ipython3",
   "version": "3.6.4"
  }
 },
 "nbformat": 4,
 "nbformat_minor": 2
}

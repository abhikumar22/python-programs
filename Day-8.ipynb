{
 "cells": [
  {
   "cell_type": "code",
   "execution_count": 39,
   "metadata": {},
   "outputs": [
    {
     "name": "stdout",
     "output_type": "stream",
     "text": [
      "\n",
      "hello world i am abhishek kumar abhishek kumar hello\n",
      "{'kumar': 2, 'am': 1, 'i': 1, 'hello': 2, 'abhishek': 2, 'world': 1}\n"
     ]
    }
   ],
   "source": [
    "# Print occurence of each word in a sentence by using disctionaries data structures in python\n",
    "# input:- \"hello world i am abhishek kumar abhishek kumar hello\"\n",
    "# output:-   hello-2 \n",
    "#            world-1 \n",
    "#            i-1 \n",
    "#            am-1 \n",
    "#            abhishek-2 \n",
    "#            kumar-2\n",
    "\n",
    "s = input(\"\\n\")\n",
    "f = []\n",
    "f = s.split()\n",
    "d = dict()\n",
    "s = set()\n",
    "\n",
    "for i in f:\n",
    "    s.add(i)\n",
    "    \n",
    "for i in s:\n",
    "    d.update({i:0})\n",
    "    \n",
    "for i in f:\n",
    "    k=int(d.get(i))\n",
    "    d.update({i:k+1})\n",
    "    \n",
    "print(d)"
   ]
  }
 ],
 "metadata": {
  "kernelspec": {
   "display_name": "Python 3",
   "language": "python",
   "name": "python3"
  },
  "language_info": {
   "codemirror_mode": {
    "name": "ipython",
    "version": 3
   },
   "file_extension": ".py",
   "mimetype": "text/x-python",
   "name": "python",
   "nbconvert_exporter": "python",
   "pygments_lexer": "ipython3",
   "version": "3.6.4"
  }
 },
 "nbformat": 4,
 "nbformat_minor": 2
}

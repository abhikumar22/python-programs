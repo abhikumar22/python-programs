{
 "cells": [
  {
   "cell_type": "code",
   "execution_count": 14,
   "metadata": {},
   "outputs": [
    {
     "name": "stdout",
     "output_type": "stream",
     "text": [
      "\n",
      "Hey there i am abhishek kumar\n",
      "\n",
      "he\n",
      "5\n"
     ]
    }
   ],
   "source": [
    "# A python program to print the index of first substring present in the string \n",
    "# Input -      String    - 'Hey there i am abhishek kumar'\n",
    "#              Substring - 'he'\n",
    "# Output - 5\n",
    "# Explanation = Since, substring 'he' is present in index[5] and index[20] but first 5 encounters so 5 is the output\n",
    "\n",
    "# Alternatively = str.index(str, beg = 0 end = len(string))\n",
    "#    s = string   beg = start_index   end = end_index\n",
    "#    s = 'abhishek kumar is a student kumar'\n",
    "#    st = 'kum'\n",
    "#    s.index(st)\n",
    "# OUTPUT - 9\n",
    "\n",
    "st = input(\"\\n\")\n",
    "sub = input(\"\\n\")\n",
    "\n",
    "lst = []\n",
    "lst = st.split()\n",
    "\n",
    "lst1 = []\n",
    "lst = sub.split()\n",
    "\n",
    "len1=len(st)\n",
    "len2=len(sub)\n",
    "\n",
    "i=j=k=0\n",
    "\n",
    "for i in range(len1):\n",
    "    k=i\n",
    "    for j in range(len2):\n",
    "        if(st[i]==sub[j]):\n",
    "            i+=1\n",
    "            j+=1\n",
    "        else:\n",
    "            break\n",
    "    if(j==len2):\n",
    "        print(k,end=\"\\n\")\n",
    "        break"
   ]
  },
  {
   "cell_type": "code",
   "execution_count": 34,
   "metadata": {},
   "outputs": [
    {
     "name": "stdout",
     "output_type": "stream",
     "text": [
      "\n",
      "Hey there i am abhishek kumar\n",
      "5\n",
      "Character = k Index = 24\n"
     ]
    }
   ],
   "source": [
    "# A python program for counting the number of white spaces in a given string and print the index of last character\n",
    "# Input  - 'Hey there i am abhishek kumar'\n",
    "# Output - 5\n",
    "# Character = k Index = 24\n",
    "\n",
    "# Alternatively\n",
    "# s = 'Hey there i am abhishek kumar'\n",
    "# s.count(' ')\n",
    "# OUTPUT - 5\n",
    "\n",
    "\n",
    "st = input(\"\\n\")\n",
    "len1 = len(st)\n",
    "count=i=last=0\n",
    "\n",
    "for i in range(len1):\n",
    "    if st[i]==' ':\n",
    "        last=i+1;\n",
    "        count+=1;\n",
    "    i+=1\n",
    "    \n",
    "print(count)\n",
    "print(\"Character = {0} Index = {1}\".format(st[last],last))"
   ]
  },
  {
   "cell_type": "code",
   "execution_count": null,
   "metadata": {},
   "outputs": [],
   "source": []
  }
 ],
 "metadata": {
  "kernelspec": {
   "display_name": "Python 3",
   "language": "python",
   "name": "python3"
  },
  "language_info": {
   "codemirror_mode": {
    "name": "ipython",
    "version": 3
   },
   "file_extension": ".py",
   "mimetype": "text/x-python",
   "name": "python",
   "nbconvert_exporter": "python",
   "pygments_lexer": "ipython3",
   "version": "3.6.4"
  }
 },
 "nbformat": 4,
 "nbformat_minor": 2
}

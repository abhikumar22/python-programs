{
 "cells": [
  {
   "cell_type": "code",
   "execution_count": 32,
   "metadata": {},
   "outputs": [
    {
     "name": "stdout",
     "output_type": "stream",
     "text": [
      "\n",
      "Hey there i am abhishek kumar\n"
     ]
    },
    {
     "data": {
      "text/plain": [
       "'kumar abhishek am i there Hey'"
      ]
     },
     "execution_count": 32,
     "metadata": {},
     "output_type": "execute_result"
    }
   ],
   "source": [
    "# A python program to reverse words in a string \n",
    "# Input :-  'Hey there i am abhishek kumar'\n",
    "# Output :- 'kumar abhishek am i there hey'\n",
    "\n",
    "# Alternatively, with using predefined function\n",
    "# s = input(\"\\n\")\n",
    "# st = s.split()\n",
    "# st.reverse()\n",
    "# s =' '.join(st)\n",
    "# s\n",
    "# Below is the code without using any predefined function\n",
    "s = input(\"\\n\")\n",
    "st = s.split()\n",
    "\n",
    "l=len(s)\n",
    "str = []\n",
    "\n",
    "for i in range(l, 0, -1):\n",
    "    str.append(s[i-1])\n",
    "\n",
    "s=''.join(str)\n",
    "st = s.split()\n",
    "\n",
    "st_f = []\n",
    "for i in st:\n",
    "    i[::-1]\n",
    "    st_f.append(i[::-1])\n",
    "\n",
    "s =' '.join(st_f)\n",
    "s\n",
    "\n",
    "\n"
   ]
  },
  {
   "cell_type": "code",
   "execution_count": null,
   "metadata": {},
   "outputs": [],
   "source": []
  }
 ],
 "metadata": {
  "kernelspec": {
   "display_name": "Python 3",
   "language": "python",
   "name": "python3"
  },
  "language_info": {
   "codemirror_mode": {
    "name": "ipython",
    "version": 3
   },
   "file_extension": ".py",
   "mimetype": "text/x-python",
   "name": "python",
   "nbconvert_exporter": "python",
   "pygments_lexer": "ipython3",
   "version": "3.6.4"
  }
 },
 "nbformat": 4,
 "nbformat_minor": 2
}

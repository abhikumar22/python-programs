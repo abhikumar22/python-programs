{
 "cells": [
  {
   "cell_type": "code",
   "execution_count": 1,
   "metadata": {},
   "outputs": [
    {
     "name": "stdout",
     "output_type": "stream",
     "text": [
      "\n",
      "LISTEN\n",
      "\n",
      "SILENT\n",
      "Anagram\n"
     ]
    }
   ],
   "source": [
    "# A python program to check whether two strings is anagram are not\n",
    "# Example:-\n",
    "#\n",
    "# String1 - LISTEN     String1 - TRIANGLE\n",
    "# String2 - SILENT     String2 - INTEGRAL \n",
    "#   ****YES****          ****YES****\n",
    "#Since both the strings have same set of words so it is anagram\n",
    "\n",
    "st1 = input(\"\\n\")\n",
    "st2 = input(\"\\n\")\n",
    "\n",
    "lst1 = [i for i in st1]\n",
    "lst2 = [i for i in st2]\n",
    "\n",
    "lst1.sort()\n",
    "lst2.sort()\n",
    "\n",
    "st1 =''.join(lst1)\n",
    "st2 =''.join(lst2)\n",
    "\n",
    "if(st1==st2):\n",
    "    print(\"Anagram\")\n",
    "else:\n",
    "    print(\"Not Anagram\")"
   ]
  },
  {
   "cell_type": "code",
   "execution_count": 2,
   "metadata": {},
   "outputs": [],
   "source": [
    "# Alternatively without using any inbuilt function\n",
    "\n",
    "#st1 = input(\"\\n\")\n",
    "#st2 = input(\"\\n\")\n",
    "\n",
    "#lst1 = [i for i in st1]\n",
    "#lst2 = [i for i in st2]\n",
    "\n",
    "#lst11 = []\n",
    "#lst22 = []\n",
    "\n",
    "#count=65\n",
    "#while len(lst11)<len(lst1):\n",
    "#    for i in lst1:\n",
    "#        if ord(i)==count:\n",
    "#            lst11.append(i)\n",
    "#            count+=1\n",
    "#lst11\n"
   ]
  },
  {
   "cell_type": "code",
   "execution_count": null,
   "metadata": {},
   "outputs": [],
   "source": []
  }
 ],
 "metadata": {
  "kernelspec": {
   "display_name": "Python 3",
   "language": "python",
   "name": "python3"
  },
  "language_info": {
   "codemirror_mode": {
    "name": "ipython",
    "version": 3
   },
   "file_extension": ".py",
   "mimetype": "text/x-python",
   "name": "python",
   "nbconvert_exporter": "python",
   "pygments_lexer": "ipython3",
   "version": "3.6.4"
  }
 },
 "nbformat": 4,
 "nbformat_minor": 2
}

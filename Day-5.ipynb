{
 "cells": [
  {
   "cell_type": "code",
   "execution_count": 17,
   "metadata": {},
   "outputs": [
    {
     "name": "stdout",
     "output_type": "stream",
     "text": [
      "27,1,78,12,10,5,22,90,40,68,09\n",
      "Sorted array is:\n",
      "1\n",
      "5\n",
      "9\n",
      "10\n",
      "12\n",
      "22\n",
      "27\n",
      "40\n",
      "68\n",
      "78\n",
      "90\n"
     ]
    }
   ],
   "source": [
    "# A python program to implement quick sort algorithm\n",
    "# Input :-  Unsorted array of numbers\n",
    "# Output :- Sorted array\n",
    "\n",
    "def partition(arr, low, high):\n",
    "    i = low-1    \n",
    "    pivot = arr[high]   \n",
    " \n",
    "    for j in range(low , high):\n",
    "        if arr[j] <= pivot:\n",
    "            i = i+1\n",
    "            arr[i],arr[j] = arr[j],arr[i]\n",
    "    arr[i+1],arr[high] = arr[high],arr[i+1]\n",
    "    return ( i+1 )\n",
    " \n",
    "\n",
    "def quickSort(arr,low,high):\n",
    "    if low < high:\n",
    "        pi = partition(arr,low,high)\n",
    "        quickSort(arr, low, pi-1)\n",
    "        quickSort(arr, pi+1, high)\n",
    "            \n",
    "# Driver function code            \n",
    "arr = [int(x) for x in input().split(',')]    #taking input in range given by the user. , seperated input\n",
    "n = len(arr)\n",
    "quickSort(arr,0,n-1)\n",
    "print (\"Sorted array is:\")\n",
    "for i in range(n):\n",
    "    print (\"%d\" %arr[i])\n",
    " \n",
    "\n"
   ]
  },
  {
   "cell_type": "code",
   "execution_count": null,
   "metadata": {},
   "outputs": [],
   "source": []
  }
 ],
 "metadata": {
  "kernelspec": {
   "display_name": "Python 3",
   "language": "python",
   "name": "python3"
  },
  "language_info": {
   "codemirror_mode": {
    "name": "ipython",
    "version": 3
   },
   "file_extension": ".py",
   "mimetype": "text/x-python",
   "name": "python",
   "nbconvert_exporter": "python",
   "pygments_lexer": "ipython3",
   "version": "3.6.4"
  }
 },
 "nbformat": 4,
 "nbformat_minor": 2
}
